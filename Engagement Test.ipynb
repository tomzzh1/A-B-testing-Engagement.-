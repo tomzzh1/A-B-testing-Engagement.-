{
 "cells": [
  {
   "cell_type": "markdown",
   "metadata": {},
   "source": [
    "## A/B Testing\n",
    "\n",
    "### Investigate the effect of a feature on the engagement."
   ]
  },
  {
   "cell_type": "markdown",
   "metadata": {},
   "source": [
    "### The company of this exercise is a social network. They decided to add a feature called: Recommended Friends, i.e. they suggest people you may know. A data scientist has built a model to suggest 5 people to each user. \n",
    "\n",
    "### These potential friends will be shown on the user newsfeed. At ﬁrst, the model is tested just on a random subset of users to see how it performs compared to the newsfeed without the new feature. The test has been running for some time and your boss asks you to check the results. You are asked to check, for each user, the number of pages visited during their ﬁrst session since the test started. \n",
    "\n",
    "### If this number increased, the test is a success. Speciﬁcally, your boss wants to know: \n",
    "\n",
    "1. #### Is the test winning? That is, should 100% of the users see the Recommended Friends feature? \n",
    "\n",
    "2. #### Is the test performing similarly for all user segments or are there diﬀerences among diﬀerent segments? \n",
    "\n",
    "3. #### If you identiﬁed segments that responded diﬀerently to the test, can you guess the reason? Would this change your point 1 conclusions?"
   ]
  },
  {
   "cell_type": "code",
   "execution_count": 1,
   "metadata": {},
   "outputs": [],
   "source": [
    "import warnings\n",
    "warnings.simplefilter('ignore')\n",
    "\n",
    "from pprint import pprint\n",
    "import numpy as np\n",
    "import pandas as pd\n",
    "import seaborn as sns\n",
    "import matplotlib.pyplot as plt\n",
    "from scipy.stats import ttest_ind\n",
    "\n",
    "%matplotlib inline"
   ]
  },
  {
   "cell_type": "code",
   "execution_count": 2,
   "metadata": {},
   "outputs": [
    {
     "data": {
      "text/html": [
       "<div>\n",
       "<style scoped>\n",
       "    .dataframe tbody tr th:only-of-type {\n",
       "        vertical-align: middle;\n",
       "    }\n",
       "\n",
       "    .dataframe tbody tr th {\n",
       "        vertical-align: top;\n",
       "    }\n",
       "\n",
       "    .dataframe thead th {\n",
       "        text-align: right;\n",
       "    }\n",
       "</style>\n",
       "<table border=\"1\" class=\"dataframe\">\n",
       "  <thead>\n",
       "    <tr style=\"text-align: right;\">\n",
       "      <th></th>\n",
       "      <th>user_id</th>\n",
       "      <th>signup_date</th>\n",
       "    </tr>\n",
       "  </thead>\n",
       "  <tbody>\n",
       "    <tr>\n",
       "      <th>0</th>\n",
       "      <td>34</td>\n",
       "      <td>2015-01-01</td>\n",
       "    </tr>\n",
       "    <tr>\n",
       "      <th>1</th>\n",
       "      <td>59</td>\n",
       "      <td>2015-01-01</td>\n",
       "    </tr>\n",
       "    <tr>\n",
       "      <th>2</th>\n",
       "      <td>178</td>\n",
       "      <td>2015-01-01</td>\n",
       "    </tr>\n",
       "    <tr>\n",
       "      <th>3</th>\n",
       "      <td>285</td>\n",
       "      <td>2015-01-01</td>\n",
       "    </tr>\n",
       "    <tr>\n",
       "      <th>4</th>\n",
       "      <td>383</td>\n",
       "      <td>2015-01-01</td>\n",
       "    </tr>\n",
       "  </tbody>\n",
       "</table>\n",
       "</div>"
      ],
      "text/plain": [
       "   user_id signup_date\n",
       "0       34  2015-01-01\n",
       "1       59  2015-01-01\n",
       "2      178  2015-01-01\n",
       "3      285  2015-01-01\n",
       "4      383  2015-01-01"
      ]
     },
     "execution_count": 2,
     "metadata": {},
     "output_type": "execute_result"
    }
   ],
   "source": [
    "user = pd.read_csv('user_table.csv', parse_dates=['signup_date'])\n",
    "user.head()"
   ]
  },
  {
   "cell_type": "code",
   "execution_count": 3,
   "metadata": {},
   "outputs": [
    {
     "data": {
      "text/html": [
       "<div>\n",
       "<style scoped>\n",
       "    .dataframe tbody tr th:only-of-type {\n",
       "        vertical-align: middle;\n",
       "    }\n",
       "\n",
       "    .dataframe tbody tr th {\n",
       "        vertical-align: top;\n",
       "    }\n",
       "\n",
       "    .dataframe thead th {\n",
       "        text-align: right;\n",
       "    }\n",
       "</style>\n",
       "<table border=\"1\" class=\"dataframe\">\n",
       "  <thead>\n",
       "    <tr style=\"text-align: right;\">\n",
       "      <th></th>\n",
       "      <th>user_id</th>\n",
       "      <th>date</th>\n",
       "      <th>browser</th>\n",
       "      <th>test</th>\n",
       "      <th>pages_visited</th>\n",
       "    </tr>\n",
       "  </thead>\n",
       "  <tbody>\n",
       "    <tr>\n",
       "      <th>0</th>\n",
       "      <td>600597</td>\n",
       "      <td>2015-08-13</td>\n",
       "      <td>IE</td>\n",
       "      <td>0</td>\n",
       "      <td>2</td>\n",
       "    </tr>\n",
       "    <tr>\n",
       "      <th>1</th>\n",
       "      <td>4410028</td>\n",
       "      <td>2015-08-26</td>\n",
       "      <td>Chrome</td>\n",
       "      <td>1</td>\n",
       "      <td>5</td>\n",
       "    </tr>\n",
       "    <tr>\n",
       "      <th>2</th>\n",
       "      <td>6004777</td>\n",
       "      <td>2015-08-17</td>\n",
       "      <td>Chrome</td>\n",
       "      <td>0</td>\n",
       "      <td>8</td>\n",
       "    </tr>\n",
       "    <tr>\n",
       "      <th>3</th>\n",
       "      <td>5990330</td>\n",
       "      <td>2015-08-27</td>\n",
       "      <td>Safari</td>\n",
       "      <td>0</td>\n",
       "      <td>8</td>\n",
       "    </tr>\n",
       "    <tr>\n",
       "      <th>4</th>\n",
       "      <td>3622310</td>\n",
       "      <td>2015-08-07</td>\n",
       "      <td>Firefox</td>\n",
       "      <td>0</td>\n",
       "      <td>1</td>\n",
       "    </tr>\n",
       "  </tbody>\n",
       "</table>\n",
       "</div>"
      ],
      "text/plain": [
       "   user_id       date  browser  test  pages_visited\n",
       "0   600597 2015-08-13       IE     0              2\n",
       "1  4410028 2015-08-26   Chrome     1              5\n",
       "2  6004777 2015-08-17   Chrome     0              8\n",
       "3  5990330 2015-08-27   Safari     0              8\n",
       "4  3622310 2015-08-07  Firefox     0              1"
      ]
     },
     "execution_count": 3,
     "metadata": {},
     "output_type": "execute_result"
    }
   ],
   "source": [
    "test = pd.read_csv('test_table.csv', parse_dates=['date'])\n",
    "test.head()"
   ]
  },
  {
   "cell_type": "code",
   "execution_count": 4,
   "metadata": {},
   "outputs": [
    {
     "data": {
      "text/html": [
       "<div>\n",
       "<style scoped>\n",
       "    .dataframe tbody tr th:only-of-type {\n",
       "        vertical-align: middle;\n",
       "    }\n",
       "\n",
       "    .dataframe tbody tr th {\n",
       "        vertical-align: top;\n",
       "    }\n",
       "\n",
       "    .dataframe thead th {\n",
       "        text-align: right;\n",
       "    }\n",
       "</style>\n",
       "<table border=\"1\" class=\"dataframe\">\n",
       "  <thead>\n",
       "    <tr style=\"text-align: right;\">\n",
       "      <th></th>\n",
       "      <th>user_id</th>\n",
       "      <th>signup_date</th>\n",
       "      <th>date</th>\n",
       "      <th>browser</th>\n",
       "      <th>test</th>\n",
       "      <th>pages_visited</th>\n",
       "    </tr>\n",
       "  </thead>\n",
       "  <tbody>\n",
       "    <tr>\n",
       "      <th>0</th>\n",
       "      <td>34</td>\n",
       "      <td>2015-01-01</td>\n",
       "      <td>2015-08-15</td>\n",
       "      <td>Chrome</td>\n",
       "      <td>0</td>\n",
       "      <td>6</td>\n",
       "    </tr>\n",
       "    <tr>\n",
       "      <th>1</th>\n",
       "      <td>59</td>\n",
       "      <td>2015-01-01</td>\n",
       "      <td>2015-08-12</td>\n",
       "      <td>Chrome</td>\n",
       "      <td>1</td>\n",
       "      <td>6</td>\n",
       "    </tr>\n",
       "    <tr>\n",
       "      <th>2</th>\n",
       "      <td>178</td>\n",
       "      <td>2015-01-01</td>\n",
       "      <td>2015-08-10</td>\n",
       "      <td>Safari</td>\n",
       "      <td>1</td>\n",
       "      <td>3</td>\n",
       "    </tr>\n",
       "    <tr>\n",
       "      <th>3</th>\n",
       "      <td>285</td>\n",
       "      <td>2015-01-01</td>\n",
       "      <td>2015-08-03</td>\n",
       "      <td>Opera</td>\n",
       "      <td>0</td>\n",
       "      <td>5</td>\n",
       "    </tr>\n",
       "    <tr>\n",
       "      <th>4</th>\n",
       "      <td>383</td>\n",
       "      <td>2015-01-01</td>\n",
       "      <td>2015-08-05</td>\n",
       "      <td>Firefox</td>\n",
       "      <td>1</td>\n",
       "      <td>9</td>\n",
       "    </tr>\n",
       "  </tbody>\n",
       "</table>\n",
       "</div>"
      ],
      "text/plain": [
       "   user_id signup_date       date  browser  test  pages_visited\n",
       "0       34  2015-01-01 2015-08-15   Chrome     0              6\n",
       "1       59  2015-01-01 2015-08-12   Chrome     1              6\n",
       "2      178  2015-01-01 2015-08-10   Safari     1              3\n",
       "3      285  2015-01-01 2015-08-03    Opera     0              5\n",
       "4      383  2015-01-01 2015-08-05  Firefox     1              9"
      ]
     },
     "execution_count": 4,
     "metadata": {},
     "output_type": "execute_result"
    }
   ],
   "source": [
    "data = pd.merge(left=user, right=test, on='user_id', how='left')\n",
    "data.head()"
   ]
  },
  {
   "cell_type": "markdown",
   "metadata": {},
   "source": [
    "# Question 1\n",
    "### Is the test winning? That is, should $100\\%$ of the users see the Recommended Friends feature?"
   ]
  },
  {
   "cell_type": "code",
   "execution_count": 5,
   "metadata": {},
   "outputs": [
    {
     "data": {
      "image/png": "[encoded data removed]",
      "text/plain": [
       "<Figure size 576x360 with 1 Axes>"
      ]
     },
     "metadata": {
      "needs_background": "light"
     },
     "output_type": "display_data"
    }
   ],
   "source": [
    "fig, ax = plt.subplots(figsize=(8, 5))\n",
    "sns.barplot(x='test', y='pages_visited', data=data, ax=ax)\n",
    "plt.tight_layout()\n",
    "plt.show()"
   ]
  },
  {
   "cell_type": "code",
   "execution_count": 6,
   "metadata": {},
   "outputs": [
    {
     "data": {
      "text/html": [
       "<div>\n",
       "<style scoped>\n",
       "    .dataframe tbody tr th:only-of-type {\n",
       "        vertical-align: middle;\n",
       "    }\n",
       "\n",
       "    .dataframe tbody tr th {\n",
       "        vertical-align: top;\n",
       "    }\n",
       "\n",
       "    .dataframe thead th {\n",
       "        text-align: right;\n",
       "    }\n",
       "</style>\n",
       "<table border=\"1\" class=\"dataframe\">\n",
       "  <thead>\n",
       "    <tr style=\"text-align: right;\">\n",
       "      <th></th>\n",
       "      <th>test</th>\n",
       "      <th>pages_visited</th>\n",
       "    </tr>\n",
       "  </thead>\n",
       "  <tbody>\n",
       "    <tr>\n",
       "      <th>0</th>\n",
       "      <td>0</td>\n",
       "      <td>4.608394</td>\n",
       "    </tr>\n",
       "    <tr>\n",
       "      <th>1</th>\n",
       "      <td>1</td>\n",
       "      <td>4.599693</td>\n",
       "    </tr>\n",
       "  </tbody>\n",
       "</table>\n",
       "</div>"
      ],
      "text/plain": [
       "   test  pages_visited\n",
       "0     0       4.608394\n",
       "1     1       4.599693"
      ]
     },
     "execution_count": 6,
     "metadata": {},
     "output_type": "execute_result"
    }
   ],
   "source": [
    "data.groupby('test')['pages_visited'].mean().reset_index()"
   ]
  },
  {
   "cell_type": "markdown",
   "metadata": {},
   "source": [
    "## Now, let's conduct hypothesis testing.\n",
    "## Perform student's t-test\n",
    "\n",
    "#### * $H_\\theta$: experimental group's pages visited is equal to or less than control group's pages visited.\n",
    "#### * $H_\\alpha$: experimental group's pages visited is higher than control group's pages visited.\n",
    "\n",
    " "
   ]
  },
  {
   "cell_type": "code",
   "execution_count": 7,
   "metadata": {},
   "outputs": [
    {
     "name": "stdout",
     "output_type": "stream",
     "text": [
      "Ttest_indResult(statistic=0.5571118435554797, pvalue=0.5774523171559118)\n"
     ]
    }
   ],
   "source": [
    "control_page = data[data['test'] == 0]['pages_visited'].values\n",
    "experiment_page = data[data['test'] == 1]['pages_visited'].values\n",
    "\n",
    "pprint(ttest_ind(a=control_page, b=experiment_page, equal_var=False))"
   ]
  },
  {
   "cell_type": "markdown",
   "metadata": {},
   "source": [
    "#### From above analysis, we can find that p-value is $0.577$, which is much larger than $5\\%$, so we cannot reject the null hypothesis that there is no difference between control and experiment group. \n",
    "\n",
    "#### So, the `Add friend feature` doesn't win at tall. This shouldn't expand to all users."
   ]
  },
  {
   "cell_type": "code",
   "execution_count": null,
   "metadata": {},
   "outputs": [],
   "source": []
  },
  {
   "cell_type": "markdown",
   "metadata": {},
   "source": [
    "# Question 2\n",
    "#### Is the test performing similarly for all user segments or are there differences among different segments?"
   ]
  },
  {
   "cell_type": "code",
   "execution_count": 8,
   "metadata": {},
   "outputs": [
    {
     "data": {
      "text/html": [
       "<div>\n",
       "<style scoped>\n",
       "    .dataframe tbody tr th:only-of-type {\n",
       "        vertical-align: middle;\n",
       "    }\n",
       "\n",
       "    .dataframe tbody tr th {\n",
       "        vertical-align: top;\n",
       "    }\n",
       "\n",
       "    .dataframe thead th {\n",
       "        text-align: right;\n",
       "    }\n",
       "</style>\n",
       "<table border=\"1\" class=\"dataframe\">\n",
       "  <thead>\n",
       "    <tr style=\"text-align: right;\">\n",
       "      <th></th>\n",
       "      <th>user_id</th>\n",
       "      <th>signup_date</th>\n",
       "      <th>date</th>\n",
       "      <th>browser</th>\n",
       "      <th>test</th>\n",
       "      <th>pages_visited</th>\n",
       "      <th>interval</th>\n",
       "      <th>is_first</th>\n",
       "      <th>dayofweek</th>\n",
       "    </tr>\n",
       "  </thead>\n",
       "  <tbody>\n",
       "    <tr>\n",
       "      <th>0</th>\n",
       "      <td>34</td>\n",
       "      <td>2015-01-01</td>\n",
       "      <td>2015-08-15</td>\n",
       "      <td>Chrome</td>\n",
       "      <td>0</td>\n",
       "      <td>6</td>\n",
       "      <td>226</td>\n",
       "      <td>0</td>\n",
       "      <td>5</td>\n",
       "    </tr>\n",
       "    <tr>\n",
       "      <th>1</th>\n",
       "      <td>59</td>\n",
       "      <td>2015-01-01</td>\n",
       "      <td>2015-08-12</td>\n",
       "      <td>Chrome</td>\n",
       "      <td>1</td>\n",
       "      <td>6</td>\n",
       "      <td>223</td>\n",
       "      <td>0</td>\n",
       "      <td>2</td>\n",
       "    </tr>\n",
       "    <tr>\n",
       "      <th>2</th>\n",
       "      <td>178</td>\n",
       "      <td>2015-01-01</td>\n",
       "      <td>2015-08-10</td>\n",
       "      <td>Safari</td>\n",
       "      <td>1</td>\n",
       "      <td>3</td>\n",
       "      <td>221</td>\n",
       "      <td>0</td>\n",
       "      <td>0</td>\n",
       "    </tr>\n",
       "    <tr>\n",
       "      <th>3</th>\n",
       "      <td>285</td>\n",
       "      <td>2015-01-01</td>\n",
       "      <td>2015-08-03</td>\n",
       "      <td>Opera</td>\n",
       "      <td>0</td>\n",
       "      <td>5</td>\n",
       "      <td>214</td>\n",
       "      <td>0</td>\n",
       "      <td>0</td>\n",
       "    </tr>\n",
       "    <tr>\n",
       "      <th>4</th>\n",
       "      <td>383</td>\n",
       "      <td>2015-01-01</td>\n",
       "      <td>2015-08-05</td>\n",
       "      <td>Firefox</td>\n",
       "      <td>1</td>\n",
       "      <td>9</td>\n",
       "      <td>216</td>\n",
       "      <td>0</td>\n",
       "      <td>2</td>\n",
       "    </tr>\n",
       "  </tbody>\n",
       "</table>\n",
       "</div>"
      ],
      "text/plain": [
       "   user_id signup_date       date  browser  test  pages_visited  interval  \\\n",
       "0       34  2015-01-01 2015-08-15   Chrome     0              6       226   \n",
       "1       59  2015-01-01 2015-08-12   Chrome     1              6       223   \n",
       "2      178  2015-01-01 2015-08-10   Safari     1              3       221   \n",
       "3      285  2015-01-01 2015-08-03    Opera     0              5       214   \n",
       "4      383  2015-01-01 2015-08-05  Firefox     1              9       216   \n",
       "\n",
       "   is_first  dayofweek  \n",
       "0         0          5  \n",
       "1         0          2  \n",
       "2         0          0  \n",
       "3         0          0  \n",
       "4         0          2  "
      ]
     },
     "execution_count": 8,
     "metadata": {},
     "output_type": "execute_result"
    }
   ],
   "source": [
    "# process the data\n",
    "data['interval'] = (data['date'] - data['signup_date']).apply(lambda x: x.days)\n",
    "data['is_first'] = (data['interval'] == 0).astype(int)\n",
    "data['dayofweek'] = data['date'].apply(lambda x: x.dayofweek)\n",
    "data.head()"
   ]
  },
  {
   "cell_type": "code",
   "execution_count": 9,
   "metadata": {},
   "outputs": [
    {
     "data": {
      "image/png": "[encoded data removed]",
      "text/plain": [
       "<Figure size 1296x432 with 2 Axes>"
      ]
     },
     "metadata": {
      "needs_background": "light"
     },
     "output_type": "display_data"
    }
   ],
   "source": [
    "# visualization of browser\n",
    "fig, ax = plt.subplots(nrows=1, ncols=2, figsize=(18, 6))\n",
    "sns.countplot(x='browser', hue='test', data=data, ax=ax[0])\n",
    "ax[0].set_title('Box Plot of browser', fontsize=16)\n",
    "\n",
    "sns.barplot(x='browser', y='pages_visited', hue='test', data=data, ax=ax[1])\n",
    "ax[1].set_title('Pages Visited vs. browser', fontsize=16)\n",
    "plt.tight_layout()\n",
    "plt.show()"
   ]
  },
  {
   "cell_type": "markdown",
   "metadata": {},
   "source": [
    "#### From the plots above, it shows that the testing did not operate well on `Opera` browser. It is ideal to ask engineers to check why the new verison did not work on `Opera`. "
   ]
  },
  {
   "cell_type": "code",
   "execution_count": 10,
   "metadata": {},
   "outputs": [
    {
     "data": {
      "image/png": "[encoded data removed]",
      "text/plain": [
       "<Figure size 1296x432 with 2 Axes>"
      ]
     },
     "metadata": {
      "needs_background": "light"
     },
     "output_type": "display_data"
    }
   ],
   "source": [
    "# visualization of is_first\n",
    "fig, ax = plt.subplots(nrows=1, ncols=2, figsize=(18, 6))\n",
    "sns.countplot(x='is_first', hue='test', data=data, ax=ax[0])\n",
    "ax[0].set_title('Box Plot of is_first', fontsize=16)\n",
    "\n",
    "sns.barplot(x='is_first', y='pages_visited', hue='test', data=data, ax=ax[1])\n",
    "ax[1].set_title('Pages Visited vs. is_first', fontsize=16)\n",
    "plt.tight_layout()\n",
    "plt.show()"
   ]
  },
  {
   "cell_type": "code",
   "execution_count": null,
   "metadata": {},
   "outputs": [],
   "source": []
  },
  {
   "cell_type": "code",
   "execution_count": 11,
   "metadata": {},
   "outputs": [
    {
     "data": {
      "image/png": "[encoded data removed]",
      "text/plain": [
       "<Figure size 1296x432 with 2 Axes>"
      ]
     },
     "metadata": {
      "needs_background": "light"
     },
     "output_type": "display_data"
    }
   ],
   "source": [
    "# visualization of dayofweek\n",
    "fig, ax = plt.subplots(nrows=1, ncols=2, figsize=(18, 6))\n",
    "sns.countplot(x='dayofweek', hue='test', data=data, ax=ax[0])\n",
    "ax[0].set_title('Box Plot of dayofweek', fontsize=16)\n",
    "\n",
    "sns.barplot(x='dayofweek', y='pages_visited', hue='test', data=data, ax=ax[1])\n",
    "ax[1].set_title('Pages Visited vs. dayofweek', fontsize=16)\n",
    "plt.tight_layout()\n",
    "plt.show()"
   ]
  },
  {
   "cell_type": "code",
   "execution_count": null,
   "metadata": {},
   "outputs": [],
   "source": []
  },
  {
   "cell_type": "markdown",
   "metadata": {},
   "source": [
    "### Question 3\n",
    "#### If you identified segments that responded differently to the test, can you guess the reason? Would this change your point 1 conclusions?"
   ]
  },
  {
   "cell_type": "markdown",
   "metadata": {},
   "source": [
    "#### From the visualization in above part, we can see that the number of pages visited is increased for some factors, such as `Chrome`, `Safari`, `Firefox`, and `IE`, but the number of pages visited is always 0 for `Opera`, which shows that there might be some errors or bugs.\n",
    "\n",
    "#### If user visit the website right after they signup, the number of pages visited actually get decreased when they are exposed to the new feature.\n",
    "\n",
    "#### Also, there are some small difference for `day of week`."
   ]
  },
  {
   "cell_type": "code",
   "execution_count": 12,
   "metadata": {},
   "outputs": [
    {
     "name": "stdout",
     "output_type": "stream",
     "text": [
      "test\n",
      "0    4.609804\n",
      "1    4.694989\n",
      "Name: pages_visited, dtype: float64\n"
     ]
    }
   ],
   "source": [
    "subset = data[data['browser'] != 'Opera']\n",
    "pprint(subset.groupby('test')['pages_visited'].mean())"
   ]
  },
  {
   "cell_type": "code",
   "execution_count": 13,
   "metadata": {},
   "outputs": [
    {
     "data": {
      "image/png": "[encoded data removed]",
      "text/plain": [
       "<Figure size 576x360 with 1 Axes>"
      ]
     },
     "metadata": {
      "needs_background": "light"
     },
     "output_type": "display_data"
    }
   ],
   "source": [
    "# visualization\n",
    "fig, ax = plt.subplots(figsize=(8, 5))\n",
    "sns.barplot(x='test', y='pages_visited', data=subset, ax=ax)\n",
    "plt.tight_layout()\n",
    "plt.show()"
   ]
  },
  {
   "cell_type": "markdown",
   "metadata": {},
   "source": [
    "### Perform Student's T-test\n",
    "\n",
    "#### * $H_\\theta$: experimental group's pages visited is equal to or less than control group's pages visited.\n",
    "#### * $H_\\alpha$: experimental group's pages visited is higher than control group's pages visited."
   ]
  },
  {
   "cell_type": "code",
   "execution_count": 14,
   "metadata": {},
   "outputs": [
    {
     "name": "stdout",
     "output_type": "stream",
     "text": [
      "T-test:\t Ttest_indResult(statistic=-5.474295518566027, pvalue=4.4039541294577014e-08)\n"
     ]
    }
   ],
   "source": [
    "control_page = subset[subset['test'] == 0]['pages_visited'].values\n",
    "experiment_page = subset[subset['test'] == 1]['pages_visited'].values\n",
    "\n",
    "print('T-test:\\t', ttest_ind(a=control_page, b=experiment_page, equal_var=False))"
   ]
  },
  {
   "cell_type": "markdown",
   "metadata": {},
   "source": [
    "#### So, it's clear that after removing the records with `Opera` browser, **check the new subset of the data**, the new feature becomes significantly useful. So, I would suggest expanding this feature to other users.\n"
   ]
  }
 ],
 "metadata": {
  "kernelspec": {
   "display_name": "Python 3",
   "language": "python",
   "name": "python3"
  },
  "language_info": {
   "codemirror_mode": {
    "name": "ipython",
    "version": 3
   },
   "file_extension": ".py",
   "mimetype": "text/x-python",
   "name": "python",
   "nbconvert_exporter": "python",
   "pygments_lexer": "ipython3",
   "version": "3.8.1"
  }
 },
 "nbformat": 4,
 "nbformat_minor": 4
}
